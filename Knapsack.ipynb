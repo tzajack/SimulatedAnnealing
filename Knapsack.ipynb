{
 "cells": [
  {
   "cell_type": "code",
   "execution_count": 35,
   "id": "8c10fe05",
   "metadata": {},
   "outputs": [],
   "source": [
    "#from random import random\n",
    "import random\n",
    "import math\n",
    "import numpy as np\n",
    "import matplotlib.pyplot as plt\n",
    "    "
   ]
  },
  {
   "cell_type": "code",
   "execution_count": 79,
   "id": "494c9464",
   "metadata": {},
   "outputs": [],
   "source": [
    "def generatenew(X,W,weight,Wmax):\n",
    "    while True:\n",
    "        j = random.randint(0, len(X)-1)\n",
    "        Y = X\n",
    "        Y[j] =  1- X[j]\n",
    "        #print(W(Y,weight))\n",
    "        if W(Y,weight) <= Wmax:\n",
    "            return j,Y"
   ]
  },
  {
   "cell_type": "code",
   "execution_count": 50,
   "id": "db6c8660",
   "metadata": {},
   "outputs": [],
   "source": [
    "def G(X,profit):\n",
    "    total = 0\n",
    "    for i in range(len(X)):\n",
    "        if X[i] == 1:\n",
    "            total += profit[i]\n",
    "    return total"
   ]
  },
  {
   "cell_type": "code",
   "execution_count": 51,
   "id": "1b9645ed",
   "metadata": {},
   "outputs": [],
   "source": [
    "def W(X,weight):\n",
    "    total = 0\n",
    "    for i in range(len(X)):\n",
    "        if X[i] == 1:\n",
    "            total += weight[i]\n",
    "    return total"
   ]
  },
  {
   "cell_type": "code",
   "execution_count": 80,
   "id": "e7441bdb",
   "metadata": {},
   "outputs": [],
   "source": [
    "def SA(G,W, T, N, alpha, X,Wmax,profit,weight):\n",
    "    Xbest = X\n",
    "    for i in range(1,N+1):\n",
    "        \n",
    "        j,Y = generatenew(X,W,weight,Wmax)\n",
    "        \n",
    "       \n",
    "        if Y[j]==1:\n",
    "            X = Y\n",
    "            \n",
    "            if G(X,profit) > G(Xbest,profit):\n",
    "                Xbest = X \n",
    "        else:\n",
    "            metropolis = math.exp(-(W(Y,weight) - W(X,weight))/T)\n",
    "            if random.random() < metropolis:\n",
    "                X  = Y\n",
    "        T = T*alpha\n",
    "        \n",
    "        \n",
    "    return Xbest"
   ]
  },
  {
   "cell_type": "code",
   "execution_count": 128,
   "id": "86085aa7",
   "metadata": {},
   "outputs": [
    {
     "name": "stdout",
     "output_type": "stream",
     "text": [
      "[0, 0, 0, 0, 0, 0, 0, 0, 0, 0, 0, 0, 0, 0, 0]\n",
      "[1, 1, 0, 0, 1, 0, 0, 1, 0, 1, 0, 0, 1, 1, 0]\n",
      "1265\n"
     ]
    }
   ],
   "source": [
    "weight = [70, 73, 77, 80, 82, 87,90,94,98,106,110,113,115,118,120 ] \n",
    "profit = [ 135,139,149,150,156,163,173,184,192,201,210,214,221,229,240]\n",
    "X = [0 for i in profit]\n",
    "print(X)\n",
    "T = 100\n",
    "Wmax = 750\n",
    "N = 5000\n",
    "alpha = 0.99995\n",
    "ans = SA(G,W, T, N, alpha, X,Wmax ,profit,weight)\n",
    "print(ans)\n",
    "print(G(ans,profit))\n"
   ]
  }
 ],
 "metadata": {
  "kernelspec": {
   "display_name": "Python 3 (ipykernel)",
   "language": "python",
   "name": "python3"
  },
  "language_info": {
   "codemirror_mode": {
    "name": "ipython",
    "version": 3
   },
   "file_extension": ".py",
   "mimetype": "text/x-python",
   "name": "python",
   "nbconvert_exporter": "python",
   "pygments_lexer": "ipython3",
   "version": "3.9.13"
  }
 },
 "nbformat": 4,
 "nbformat_minor": 5
}
